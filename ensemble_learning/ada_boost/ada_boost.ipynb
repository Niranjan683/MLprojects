{
 "cells": [
  {
   "cell_type": "markdown",
   "metadata": {},
   "source": [
    "### Ensemble learning : Ada Boost Technique"
   ]
  },
  {
   "cell_type": "code",
   "execution_count": null,
   "metadata": {},
   "outputs": [],
   "source": [
    "import numpy as np\n",
    "import pandas as pd\n",
    "from sklearn.tree import DecisionTreeClassifier\n",
    "from sklearn.datasets import load_iris, make_classification\n",
    "from sklearn.model_selection import train_test_split\n",
    "from sklearn.metrics import accuracy_score\n",
    "from sklearn.ensemble import AdaBoostClassifier"
   ]
  },
  {
   "cell_type": "code",
   "execution_count": 28,
   "metadata": {},
   "outputs": [
    {
     "name": "stdout",
     "output_type": "stream",
     "text": [
      "   sepal length (cm)  sepal width (cm)  petal length (cm)  petal width (cm)\n",
      "0                5.1               3.5                1.4               0.2\n",
      "1                4.9               3.0                1.4               0.2\n",
      "2                4.7               3.2                1.3               0.2\n",
      "3                4.6               3.1                1.5               0.2\n",
      "4                5.0               3.6                1.4               0.2\n"
     ]
    },
    {
     "data": {
      "text/html": [
       "<div>\n",
       "<style scoped>\n",
       "    .dataframe tbody tr th:only-of-type {\n",
       "        vertical-align: middle;\n",
       "    }\n",
       "\n",
       "    .dataframe tbody tr th {\n",
       "        vertical-align: top;\n",
       "    }\n",
       "\n",
       "    .dataframe thead th {\n",
       "        text-align: right;\n",
       "    }\n",
       "</style>\n",
       "<table border=\"1\" class=\"dataframe\">\n",
       "  <thead>\n",
       "    <tr style=\"text-align: right;\">\n",
       "      <th></th>\n",
       "      <th>sepal length (cm)</th>\n",
       "      <th>sepal width (cm)</th>\n",
       "      <th>petal length (cm)</th>\n",
       "      <th>petal width (cm)</th>\n",
       "      <th>species</th>\n",
       "    </tr>\n",
       "  </thead>\n",
       "  <tbody>\n",
       "    <tr>\n",
       "      <th>0</th>\n",
       "      <td>5.1</td>\n",
       "      <td>3.5</td>\n",
       "      <td>1.4</td>\n",
       "      <td>0.2</td>\n",
       "      <td>0</td>\n",
       "    </tr>\n",
       "    <tr>\n",
       "      <th>1</th>\n",
       "      <td>4.9</td>\n",
       "      <td>3.0</td>\n",
       "      <td>1.4</td>\n",
       "      <td>0.2</td>\n",
       "      <td>0</td>\n",
       "    </tr>\n",
       "    <tr>\n",
       "      <th>2</th>\n",
       "      <td>4.7</td>\n",
       "      <td>3.2</td>\n",
       "      <td>1.3</td>\n",
       "      <td>0.2</td>\n",
       "      <td>0</td>\n",
       "    </tr>\n",
       "    <tr>\n",
       "      <th>3</th>\n",
       "      <td>4.6</td>\n",
       "      <td>3.1</td>\n",
       "      <td>1.5</td>\n",
       "      <td>0.2</td>\n",
       "      <td>0</td>\n",
       "    </tr>\n",
       "    <tr>\n",
       "      <th>4</th>\n",
       "      <td>5.0</td>\n",
       "      <td>3.6</td>\n",
       "      <td>1.4</td>\n",
       "      <td>0.2</td>\n",
       "      <td>0</td>\n",
       "    </tr>\n",
       "  </tbody>\n",
       "</table>\n",
       "</div>"
      ],
      "text/plain": [
       "   sepal length (cm)  sepal width (cm)  ...  petal width (cm)  species\n",
       "0                5.1               3.5  ...               0.2        0\n",
       "1                4.9               3.0  ...               0.2        0\n",
       "2                4.7               3.2  ...               0.2        0\n",
       "3                4.6               3.1  ...               0.2        0\n",
       "4                5.0               3.6  ...               0.2        0\n",
       "\n",
       "[5 rows x 5 columns]"
      ]
     },
     "execution_count": 28,
     "metadata": {},
     "output_type": "execute_result"
    }
   ],
   "source": [
    "iris = load_iris()\n",
    "df= pd.DataFrame(data=iris.data, columns=iris.feature_names)\n",
    "print(df.head())\n",
    "df['species'] = iris.target\n",
    "df.head()"
   ]
  },
  {
   "cell_type": "code",
   "execution_count": 12,
   "metadata": {},
   "outputs": [],
   "source": [
    "class AdaBoost:\n",
    "    def __init__(self,n_estimators):\n",
    "        self.n_estimators=n_estimators\n",
    "        self.alphas = [] # it sotres the performance score of each model based on the weights\n",
    "        self.models = [] # it sotres the models\n",
    "\n",
    "\n",
    "    def fit(self,X,y):\n",
    "        n_samples, n_features = X.shape\n",
    "        w=np.ones(n_samples)/n_samples\n",
    "\n",
    "        for i in range(self.n_estimators):\n",
    "            model = DecisionTreeClassifier(max_depth=1)\n",
    "            model.fit(X,y,sample_weight=w)\n",
    "            predictions = model.predict(X)\n",
    "            err = np.sum(w * (predictions!=y))/np.sum(w)\n",
    "            alpha= 0.5 * np.log((1-err)/(err+1e-10))\n",
    "            self.alphas.append(err)\n",
    "            self.models.append(model)\n",
    "            w = w * np.exp(-alpha * y * predictions)\n",
    "            w = w/np.sum(w)\n",
    "\n",
    "    def predict(self,X):\n",
    "        strong_preds = np.zeros(X.shape[0])\n",
    "        for model, alpha in zip(self.models, self.alphas):\n",
    "            strong_preds += alpha * model.predict(X)\n",
    "        return np.sign(strong_preds).astype(int)\n",
    "        \n"
   ]
  },
  {
   "cell_type": "code",
   "execution_count": 37,
   "metadata": {},
   "outputs": [
    {
     "name": "stdout",
     "output_type": "stream",
     "text": [
      "Accuracy 64.44444444444444\n"
     ]
    }
   ],
   "source": [
    "if __name__==\"__main__\":\n",
    "    X=pd.DataFrame(data=iris.data, columns= iris.feature_names)\n",
    "    y=iris.target\n",
    "    X_train, X_test, y_train,  y_test = train_test_split(X, y, test_size=0.3)\n",
    "    \n",
    "    adaboost=AdaBoost(n_estimators=10)\n",
    "    adaboost.fit(X_train,y_train)\n",
    "    predictions= adaboost.predict(X_test)\n",
    "\n",
    "    accuracy=accuracy_score(y_test,predictions)\n",
    "    print(f\"Accuracy {accuracy*100}\")"
   ]
  },
  {
   "cell_type": "code",
   "execution_count": null,
   "metadata": {},
   "outputs": [],
   "source": []
  }
 ],
 "metadata": {
  "kernelspec": {
   "display_name": "mlvenv",
   "language": "python",
   "name": "python3"
  },
  "language_info": {
   "codemirror_mode": {
    "name": "ipython",
    "version": 3
   },
   "file_extension": ".py",
   "mimetype": "text/x-python",
   "name": "python",
   "nbconvert_exporter": "python",
   "pygments_lexer": "ipython3",
   "version": "3.12.2"
  }
 },
 "nbformat": 4,
 "nbformat_minor": 2
}
