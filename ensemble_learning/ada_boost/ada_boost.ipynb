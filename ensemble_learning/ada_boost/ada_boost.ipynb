{
 "cells": [
  {
   "cell_type": "markdown",
   "metadata": {},
   "source": [
    "### Ensemble learning : Ada Boost Technique"
   ]
  },
  {
   "cell_type": "code",
   "execution_count": 11,
   "metadata": {},
   "outputs": [],
   "source": [
    "import numpy as np\n",
    "from sklearn.tree import DecisionTreeClassifier\n",
    "from sklearn.datasets import load_iris, make_classification\n",
    "from sklearn.model_selection import train_test_split\n",
    "from sklearn.metrics import accuracy_score"
   ]
  },
  {
   "cell_type": "code",
   "execution_count": 12,
   "metadata": {},
   "outputs": [],
   "source": [
    "class AdaBoost:\n",
    "    def __init__(self,n_estimators):\n",
    "        self.n_estimators=n_estimators\n",
    "        self.alphas = [] # it sotres the performance score of each model based on the weights\n",
    "        self.models = [] # it sotres the models\n",
    "\n",
    "\n",
    "    def fit(self,X,y):\n",
    "        n_samples, n_features = X.shape\n",
    "        w=np.ones(n_samples)/n_samples\n",
    "\n",
    "        for i in range(self.n_estimators):\n",
    "            model = DecisionTreeClassifier(max_depth=1)\n",
    "            model.fit(X,y,sample_weight=w)\n",
    "            predictions = model.predict(X)\n",
    "            err = np.sum(w * (predictions!=y))/np.sum(w)\n",
    "            alpha= 0.5 * np.log((1-err)/(err+1e-10))\n",
    "            self.alphas.append(err)\n",
    "            self.models.append(model)\n",
    "            w = w * np.exp(-alpha * y * predictions)\n",
    "            w = w/np.sum(w)\n",
    "\n",
    "    def predict(self,X):\n",
    "        strong_preds = np.zeros(X.shape[0])\n",
    "        for model, alpha in zip(self.models, self.alphas):\n",
    "            strong_preds += alpha * model.predict(X)\n",
    "        return np.sign(strong_preds).astype(int)\n",
    "        \n"
   ]
  },
  {
   "cell_type": "code",
   "execution_count": 13,
   "metadata": {},
   "outputs": [
    {
     "name": "stdout",
     "output_type": "stream",
     "text": [
      "Accuracy 84.0\n"
     ]
    }
   ],
   "source": [
    "if __name__==\"__main__\":\n",
    "    X,y=make_classification(n_samples=1000, n_features=20, n_classes=2, random_state=42)\n",
    "    X_train, X_test, y_train,  y_test = train_test_split(X, y, test_size=0.3, random_state=42)\n",
    "    \n",
    "    adaboost=AdaBoost(n_estimators=50)\n",
    "    adaboost.fit(X_train,y_train)\n",
    "    predictions= adaboost.predict(X_test)\n",
    "\n",
    "    accuracy=accuracy_score(y_test,predictions)\n",
    "    print(f\"Accuracy {accuracy*100}\")"
   ]
  }
 ],
 "metadata": {
  "kernelspec": {
   "display_name": "mlvenv",
   "language": "python",
   "name": "python3"
  },
  "language_info": {
   "codemirror_mode": {
    "name": "ipython",
    "version": 3
   },
   "file_extension": ".py",
   "mimetype": "text/x-python",
   "name": "python",
   "nbconvert_exporter": "python",
   "pygments_lexer": "ipython3",
   "version": "3.12.2"
  }
 },
 "nbformat": 4,
 "nbformat_minor": 2
}
